{
 "cells": [
  {
   "cell_type": "markdown",
   "id": "755c242f",
   "metadata": {},
   "source": [
    "# Semana 07\n",
    "Bravo Ames Antonella Brighit"
   ]
  },
  {
   "cell_type": "raw",
   "id": "b6dcd0ad",
   "metadata": {},
   "source": [
    "Tema\n",
    "    1. Numeros\n",
    "    2. Variables\n",
    "    3. Manejo de cadena\n",
    "    4. Ingreso de datos por el teclado\n",
    "    5. Operadores"
   ]
  },
  {
   "cell_type": "raw",
   "id": "0f825bdb",
   "metadata": {},
   "source": [
    "2. Variables"
   ]
  },
  {
   "cell_type": "code",
   "execution_count": 5,
   "id": "d0e165fb",
   "metadata": {},
   "outputs": [],
   "source": [
    "edad = 41"
   ]
  },
  {
   "cell_type": "code",
   "execution_count": 6,
   "id": "87bc74c6",
   "metadata": {},
   "outputs": [
    {
     "data": {
      "text/plain": [
       "41"
      ]
     },
     "execution_count": 6,
     "metadata": {},
     "output_type": "execute_result"
    }
   ],
   "source": [
    "edad"
   ]
  },
  {
   "cell_type": "code",
   "execution_count": 10,
   "id": "7ffda327",
   "metadata": {},
   "outputs": [],
   "source": [
    "nombre = \"Antonella Brighit\""
   ]
  },
  {
   "cell_type": "code",
   "execution_count": 11,
   "id": "5a3c0ee7",
   "metadata": {},
   "outputs": [
    {
     "data": {
      "text/plain": [
       "'Antonella Brighit'"
      ]
     },
     "execution_count": 11,
     "metadata": {},
     "output_type": "execute_result"
    }
   ],
   "source": [
    "nombre"
   ]
  },
  {
   "cell_type": "code",
   "execution_count": 12,
   "id": "6c144687",
   "metadata": {},
   "outputs": [],
   "source": [
    "apellido = \"Bravo Ames\""
   ]
  },
  {
   "cell_type": "code",
   "execution_count": 13,
   "id": "adac04c5",
   "metadata": {},
   "outputs": [
    {
     "data": {
      "text/plain": [
       "'Bravo Ames'"
      ]
     },
     "execution_count": 13,
     "metadata": {},
     "output_type": "execute_result"
    }
   ],
   "source": [
    "apellido"
   ]
  },
  {
   "cell_type": "code",
   "execution_count": 21,
   "id": "8ff3e0cc",
   "metadata": {},
   "outputs": [],
   "source": [
    "nombrecompleto = nombre+apellido"
   ]
  },
  {
   "cell_type": "code",
   "execution_count": 23,
   "id": "f7e50150",
   "metadata": {},
   "outputs": [
    {
     "data": {
      "text/plain": [
       "'Antonella BrighitBravo Ames'"
      ]
     },
     "execution_count": 23,
     "metadata": {},
     "output_type": "execute_result"
    }
   ],
   "source": [
    "nombrecompleto"
   ]
  },
  {
   "cell_type": "code",
   "execution_count": 24,
   "id": "836de88e",
   "metadata": {},
   "outputs": [],
   "source": [
    "nombrecompleto = nombre+\"\"+apellido"
   ]
  },
  {
   "cell_type": "code",
   "execution_count": 25,
   "id": "81eb9b7c",
   "metadata": {},
   "outputs": [
    {
     "data": {
      "text/plain": [
       "'Antonella BrighitBravo Ames'"
      ]
     },
     "execution_count": 25,
     "metadata": {},
     "output_type": "execute_result"
    }
   ],
   "source": [
    "nombrecompleto"
   ]
  },
  {
   "cell_type": "code",
   "execution_count": 26,
   "id": "960e6a69",
   "metadata": {},
   "outputs": [
    {
     "data": {
      "text/plain": [
       "int"
      ]
     },
     "execution_count": 26,
     "metadata": {},
     "output_type": "execute_result"
    }
   ],
   "source": [
    "numero = 50\n",
    "type (numero)"
   ]
  },
  {
   "cell_type": "code",
   "execution_count": 27,
   "id": "f8602b58",
   "metadata": {},
   "outputs": [
    {
     "data": {
      "text/plain": [
       "str"
      ]
     },
     "execution_count": 27,
     "metadata": {},
     "output_type": "execute_result"
    }
   ],
   "source": [
    "type (nombre)"
   ]
  },
  {
   "cell_type": "code",
   "execution_count": 29,
   "id": "ddafab1c",
   "metadata": {},
   "outputs": [
    {
     "data": {
      "text/plain": [
       "1.5"
      ]
     },
     "execution_count": 29,
     "metadata": {},
     "output_type": "execute_result"
    }
   ],
   "source": [
    "talla = 1.50\n",
    "talla"
   ]
  },
  {
   "cell_type": "code",
   "execution_count": 30,
   "id": "b36c709a",
   "metadata": {},
   "outputs": [
    {
     "data": {
      "text/plain": [
       "float"
      ]
     },
     "execution_count": 30,
     "metadata": {},
     "output_type": "execute_result"
    }
   ],
   "source": [
    "type (talla)"
   ]
  },
  {
   "cell_type": "code",
   "execution_count": 31,
   "id": "9cefdfe0",
   "metadata": {},
   "outputs": [
    {
     "data": {
      "text/plain": [
       "'100'"
      ]
     },
     "execution_count": 31,
     "metadata": {},
     "output_type": "execute_result"
    }
   ],
   "source": [
    "#para convertir un numero en cadena usaremos str()\n",
    "numero=100\n",
    "cadena=str(numero)\n",
    "cadena"
   ]
  },
  {
   "cell_type": "code",
   "execution_count": 32,
   "id": "bcaf0eeb",
   "metadata": {},
   "outputs": [
    {
     "data": {
      "text/plain": [
       "str"
      ]
     },
     "execution_count": 32,
     "metadata": {},
     "output_type": "execute_result"
    }
   ],
   "source": [
    "type(cadena)"
   ]
  },
  {
   "cell_type": "code",
   "execution_count": 33,
   "id": "2c561a2d",
   "metadata": {},
   "outputs": [
    {
     "data": {
      "text/plain": [
       "50"
      ]
     },
     "execution_count": 33,
     "metadata": {},
     "output_type": "execute_result"
    }
   ],
   "source": [
    "#para convertir un numero entero usaremos int()\n",
    "cadena2 = \"50\"\n",
    "numero2=int(cadena2)\n",
    "numero2"
   ]
  },
  {
   "cell_type": "code",
   "execution_count": 34,
   "id": "8fcb0bdf",
   "metadata": {},
   "outputs": [
    {
     "data": {
      "text/plain": [
       "int"
      ]
     },
     "execution_count": 34,
     "metadata": {},
     "output_type": "execute_result"
    }
   ],
   "source": [
    "type(numero2)"
   ]
  },
  {
   "cell_type": "code",
   "execution_count": 35,
   "id": "3aee1fc2",
   "metadata": {},
   "outputs": [
    {
     "data": {
      "text/plain": [
       "50.0"
      ]
     },
     "execution_count": 35,
     "metadata": {},
     "output_type": "execute_result"
    }
   ],
   "source": [
    "cadena3 = \"50\"\n",
    "numero3 = float (cadena3)\n",
    "numero3"
   ]
  },
  {
   "cell_type": "code",
   "execution_count": 36,
   "id": "9d958977",
   "metadata": {},
   "outputs": [
    {
     "data": {
      "text/plain": [
       "float"
      ]
     },
     "execution_count": 36,
     "metadata": {},
     "output_type": "execute_result"
    }
   ],
   "source": [
    "type (numero3)"
   ]
  },
  {
   "cell_type": "code",
   "execution_count": null,
   "id": "8cc8775f",
   "metadata": {},
   "outputs": [],
   "source": []
  }
 ],
 "metadata": {
  "kernelspec": {
   "display_name": "Python 3 (ipykernel)",
   "language": "python",
   "name": "python3"
  },
  "language_info": {
   "codemirror_mode": {
    "name": "ipython",
    "version": 3
   },
   "file_extension": ".py",
   "mimetype": "text/x-python",
   "name": "python",
   "nbconvert_exporter": "python",
   "pygments_lexer": "ipython3",
   "version": "3.9.12"
  }
 },
 "nbformat": 4,
 "nbformat_minor": 5
}
