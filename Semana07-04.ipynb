{
 "cells": [
  {
   "cell_type": "markdown",
   "id": "8ff10dd0",
   "metadata": {},
   "source": [
    "# SEMANA 07\n",
    "Antonella Brighit Bravo Ames"
   ]
  },
  {
   "cell_type": "raw",
   "id": "89d6b243",
   "metadata": {},
   "source": [
    "Tema\n",
    "    1. Numeros\n",
    "    2. Variables\n",
    "    3. Manejo de cadena\n",
    "    4. Ingreso de datos por el teclado\n",
    "    5. Operadores"
   ]
  },
  {
   "cell_type": "markdown",
   "id": "55c35c74",
   "metadata": {},
   "source": [
    "4. Ingreso de datos por el teclado"
   ]
  },
  {
   "cell_type": "code",
   "execution_count": null,
   "id": "568951a6",
   "metadata": {},
   "outputs": [],
   "source": [
    "#Función input ()\n",
    "print(\"¿Cual es tu nombre\")"
   ]
  },
  {
   "cell_type": "code",
   "execution_count": null,
   "id": "c7dde52a",
   "metadata": {},
   "outputs": [],
   "source": [
    "#Cuando ingresa un valor por teclado lo hace como cadena\n",
    "print(\"número 1:\")\n",
    "numero1 = input()\n",
    "print(\"número2: \")\n",
    "numero2 = input()\n",
    "numero3 = int (numero1)+ int(numero2)\n",
    "print(f)"
   ]
  },
  {
   "cell_type": "code",
   "execution_count": null,
   "id": "eaf313b9",
   "metadata": {},
   "outputs": [],
   "source": []
  }
 ],
 "metadata": {
  "kernelspec": {
   "display_name": "Python 3 (ipykernel)",
   "language": "python",
   "name": "python3"
  },
  "language_info": {
   "codemirror_mode": {
    "name": "ipython",
    "version": 3
   },
   "file_extension": ".py",
   "mimetype": "text/x-python",
   "name": "python",
   "nbconvert_exporter": "python",
   "pygments_lexer": "ipython3",
   "version": "3.9.12"
  }
 },
 "nbformat": 4,
 "nbformat_minor": 5
}
